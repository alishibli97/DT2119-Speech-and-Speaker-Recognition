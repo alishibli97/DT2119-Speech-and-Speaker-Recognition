{
 "cells": [
  {
   "cell_type": "code",
   "execution_count": 2,
   "metadata": {},
   "outputs": [],
   "source": [
    "import librosa as lb\n",
    "import numpy as np\n",
    "from lab3_proto import *\n",
    "from helper_functions import *\n",
    "from lab1_tools import *\n",
    "import os\n",
    "# from pysndfile import sndio\n",
    "import math\n",
    "import pickle\n",
    "import warnings\n",
    "\n",
    "from scipy.signal import lfilter\n",
    "from scipy.fftpack import fft\n",
    "from scipy.signal import hamming\n",
    "from lab1_tools import *\n",
    "from scipy.fftpack.realtransforms import dct\n",
    "from sklearn.preprocessing import StandardScaler"
   ]
  },
  {
   "cell_type": "code",
   "execution_count": 3,
   "metadata": {},
   "outputs": [],
   "source": [
    "def path2info(path):\n",
    "    \"\"\"\n",
    "    path2info: parses paths in the TIDIGIT format and extracts information\n",
    "               about the speaker and the utterance\n",
    "\n",
    "    Example:\n",
    "    path2info('tidigits/disc_4.1.1/tidigits/train/man/ae/z9z6531a.wav')\n",
    "    \"\"\"\n",
    "    rest, filename = os.path.split(path)\n",
    "    rest, speakerID = os.path.split(rest)\n",
    "    rest, gender = os.path.split(rest)\n",
    "    digits = filename[:-5]\n",
    "    repetition = filename[-5]\n",
    "    return gender, speakerID, digits, repetition\n",
    "\n",
    "def loadAudio(filename):\n",
    "    \"\"\"\n",
    "    loadAudio: loads audio data from file using pysndfile\n",
    "\n",
    "    Note that, by default pysndfile converts the samples into floating point\n",
    "    numbers and rescales them in the range [-1, 1]. This is avoided by specifying\n",
    "    the option dtype=np.int16 which keeps both the original data type and range\n",
    "    of values.\n",
    "    \"\"\"\n",
    "    sndobj = lb.load(filename)#, dtype=np.int16)\n",
    "    samplingrate = sndobj[1]\n",
    "    samples = np.array(sndobj[0])\n",
    "    return samples, samplingrate\n",
    "\n",
    "def frames2trans(sequence, outfilename=None, timestep=0.01):\n",
    "    \"\"\"\n",
    "    Outputs a standard transcription given a frame-by-frame\n",
    "    list of strings.\n",
    "\n",
    "    Example (using functions from Lab 1 and Lab 2):\n",
    "    phones = ['sil', 'sil', 'sil', 'ow', 'ow', 'ow', 'ow', 'ow', 'sil', 'sil']\n",
    "    trans = frames2trans(phones, 'oa.lab')\n",
    "\n",
    "    Then you can use, for example wavesurfer to open the wav file and the transcription\n",
    "    \"\"\"\n",
    "    sym = sequence[0]\n",
    "    start = 0\n",
    "    end = 0\n",
    "    trans = ''\n",
    "    for t in range(len(sequence)):\n",
    "        if sequence[t] != sym:\n",
    "            trans = trans + str(start) + ' ' + str(end) + ' ' + sym + '\\n'\n",
    "            sym = sequence[t]\n",
    "            start = end\n",
    "        end = end + timestep\n",
    "    trans = trans + str(start) + ' ' + str(end) + ' ' + sym + '\\n'\n",
    "    if outfilename != None:\n",
    "        with open(outfilename, 'w') as f:\n",
    "            f.write(trans)\n",
    "    return trans"
   ]
  },
  {
   "cell_type": "code",
   "execution_count": 4,
   "metadata": {},
   "outputs": [],
   "source": [
    "# Function given by the exercise ----------------------------------\n",
    "\n",
    "def lifter(mfcc, lifter=22):\n",
    "    \"\"\"\n",
    "    Applies liftering to improve the relative range of MFCC coefficients.\n",
    "       mfcc: NxM matrix where N is the number of frames and M the number of MFCC coefficients\n",
    "       lifter: lifering coefficient\n",
    "    Returns:\n",
    "       NxM array with lifeterd coefficients\n",
    "    \"\"\"\n",
    "    nframes, nceps = mfcc.shape\n",
    "    cepwin = 1.0 + lifter/2.0 * np.sin(np.pi * np.arange(nceps) / lifter)\n",
    "    l = np.multiply(mfcc, np.tile(cepwin, nframes).reshape((nframes,nceps)))\n",
    "    return l\n",
    "\n",
    "def hz2mel(f):\n",
    "    \"\"\"Convert an array of frequency in Hz into mel.\"\"\"\n",
    "    return 1127.01048 * np.log(f/700 +1)\n",
    "\n",
    "def trfbank(fs, nfft, lowfreq=133.33, linsc=200/3., logsc=1.0711703, nlinfilt=13, nlogfilt=27, equalareas=False):\n",
    "    \"\"\"Compute triangular filterbank for MFCC computation.\n",
    "    Inputs:\n",
    "    fs:         sampling frequency (rate)\n",
    "    nfft:       length of the fft\n",
    "    lowfreq:    frequency of the lowest filter\n",
    "    linsc:      scale for the linear filters\n",
    "    logsc:      scale for the logaritmic filters\n",
    "    nlinfilt:   number of linear filters\n",
    "    nlogfilt:   number of log filters\n",
    "    Outputs:\n",
    "    res:  array with shape [N, nfft], with filter amplitudes for each column.\n",
    "            (N=nlinfilt+nlogfilt)\n",
    "    From scikits.talkbox\"\"\"\n",
    "    # Total number of filters\n",
    "    nfilt = nlinfilt + nlogfilt\n",
    "\n",
    "    #------------------------\n",
    "    # Compute the filter bank\n",
    "    #------------------------\n",
    "    # Compute start/middle/end points of the triangular filters in spectral\n",
    "    # domain\n",
    "    freqs = np.zeros(nfilt+2)\n",
    "    freqs[:nlinfilt] = lowfreq + np.arange(nlinfilt) * linsc\n",
    "    freqs[nlinfilt:] = freqs[nlinfilt-1] * logsc ** np.arange(1, nlogfilt + 3)\n",
    "    if equalareas:\n",
    "        heights = np.ones(nfilt)\n",
    "    else:\n",
    "        heights = 2./(freqs[2:] - freqs[0:-2])\n",
    "\n",
    "    # Compute filterbank coeff (in fft domain, in bins)\n",
    "    fbank = np.zeros((nfilt, nfft))\n",
    "    # FFT bins (in Hz)\n",
    "    nfreqs = np.arange(nfft) / (1. * nfft) * fs\n",
    "    for i in range(nfilt):\n",
    "        low = freqs[i]\n",
    "        cen = freqs[i+1]\n",
    "        hi = freqs[i+2]\n",
    "\n",
    "        lid = np.arange(np.floor(low * nfft / fs) + 1,\n",
    "                        np.floor(cen * nfft / fs) + 1, dtype=np.int)\n",
    "        lslope = heights[i] / (cen - low)\n",
    "        rid = np.arange(np.floor(cen * nfft / fs) + 1,\n",
    "                        np.floor(hi * nfft / fs) + 1, dtype=np.int)\n",
    "        rslope = heights[i] / (hi - cen)\n",
    "        fbank[i][lid] = lslope * (nfreqs[lid] - low)\n",
    "        fbank[i][rid] = rslope * (hi - nfreqs[rid])\n",
    "\n",
    "    return fbank\n",
    "\n",
    "\n",
    "def mspec(samples, winlen = 400, winshift = 200, preempcoeff=0.97, nfft=512, samplingrate=20000):\n",
    "    \"\"\"Computes Mel Filterbank features.\n",
    "    Args:\n",
    "        samples: array of speech samples with shape (N,)\n",
    "        winlen: lenght of the analysis window\n",
    "        winshift: number of samples to shift the analysis window at every time step\n",
    "        preempcoeff: pre-emphasis coefficient\n",
    "        nfft: length of the Fast Fourier Transform (power of 2, >= winlen)\n",
    "        samplingrate: sampling rate of the original signal\n",
    "\n",
    "    Returns:\n",
    "        N x nfilters array with mel filterbank features (see trfbank for nfilters)\n",
    "    \"\"\"\n",
    "    frames = enframe(samples, winlen, winshift)\n",
    "    preemph = preemp(frames, preempcoeff)\n",
    "    windowed = windowing(preemph)\n",
    "    spec = powerSpectrum(windowed, nfft)\n",
    "    return logMelSpectrum(spec, samplingrate)\n",
    "\n",
    "def mfcc(samples, winlen = 400, winshift = 200, preempcoeff=0.97, nfft=512, nceps=13, samplingrate=20000, liftercoeff=22):\n",
    "    \"\"\"Computes Mel Frequency Cepstrum Coefficients.\n",
    "\n",
    "    Args:\n",
    "        samples: array of speech samples with shape (N,)\n",
    "        winlen: lenght of the analysis window\n",
    "        winshift: number of samples to shift the analysis window at every time step\n",
    "        preempcoeff: pre-emphasis coefficient\n",
    "        nfft: length of the Fast Fourier Transform (power of 2, >= winlen)\n",
    "        nceps: number of cepstrum coefficients to compute\n",
    "        samplingrate: sampling rate of the original signal\n",
    "        liftercoeff: liftering coefficient used to equalise scale of MFCCs\n",
    "\n",
    "    Returns:\n",
    "        N x nceps array with lifetered MFCC coefficients\n",
    "    \"\"\"\n",
    "    mspecs = mspec(samples, winlen, winshift, preempcoeff, nfft, samplingrate)\n",
    "    ceps = cepstrum(mspecs, nceps)\n",
    "    return lifter(ceps, liftercoeff)\n",
    "\n",
    "# Functions to be implemented ----------------------------------\n",
    "\n",
    "def enframe(samples, winlen, winshift):\n",
    "    \"\"\"\n",
    "    Slices the input samples into overlapping windows.\n",
    "\n",
    "    Args:\n",
    "        winlen: window length in samples.\n",
    "        winshift: shift of consecutive windows in samples\n",
    "    Returns:\n",
    "        numpy array [N x winlen], where N is the number of windows that fit\n",
    "        in the input signal\n",
    "    \"\"\"\n",
    "\n",
    "    # check if i+winlen > len(samples):\n",
    "\n",
    "    result = []\n",
    "    for i in range(0,len(samples),winshift):\n",
    "        if(i+winlen > len(samples)): break\n",
    "        result.append(samples[i:i+winlen])\n",
    "    return np.array(result)\n",
    "    # return np.array([samples[i:i+winlen] for i in range(0,len(samples),winshift)])\n",
    "    \n",
    "def preemp(input, p=0.97):\n",
    "    \"\"\"\n",
    "    Pre-emphasis filter.\n",
    "\n",
    "    Args:\n",
    "        input: array of speech frames [N x M] where N is the number of frames and\n",
    "               M the samples per frame\n",
    "        p: preemhasis factor (defaults to the value specified in the exercise)\n",
    "\n",
    "    Output:\n",
    "        output: array of pre-emphasised speech samples\n",
    "    Note (you can use the function lfilter from scipy.signal)\n",
    "    \"\"\"\n",
    "    return lfilter([1, -p], [1], input)\n",
    "\n",
    "def windowing(input):\n",
    "    \"\"\"\n",
    "    Applies hamming window to the input frames.\n",
    "\n",
    "    Args:\n",
    "        input: array of speech samples [N x M] where N is the number of frames and\n",
    "               M the samples per frame\n",
    "    Output:\n",
    "        array of windoed speech samples [N x M]\n",
    "    Note (you can use the function hamming from scipy.signal, include the sym=0 option\n",
    "    if you want to get the same results as in the example)\n",
    "    \"\"\"\n",
    "    return input * hamming(input.shape[1], sym=0)\n",
    "\n",
    "def powerSpectrum(input, nfft):\n",
    "    \"\"\"\n",
    "    Calculates the power spectrum of the input signal, that is the square of the modulus of the FFT\n",
    "\n",
    "    Args:\n",
    "        input: array of speech samples [N x M] where N is the number of frames and\n",
    "               M the samples per frame\n",
    "        nfft: length of the FFT\n",
    "    Output:\n",
    "        array of power spectra [N x nfft]\n",
    "    Note: you can use the function fft from scipy.fftpack\n",
    "    \"\"\"\n",
    "    freq = fft(input, nfft)\n",
    "    return freq.real**2 + freq.imag**2\n",
    "\n",
    "def logMelSpectrum(input, samplingrate):\n",
    "    \"\"\"\n",
    "    Calculates the log output of a Mel filterbank when the input is the power spectrum\n",
    "\n",
    "    Args:\n",
    "        input: array of power spectrum coefficients [N x nfft] where N is the number of frames and\n",
    "               nfft the length of each spectrum\n",
    "        samplingrate: sampling rate of the original signal (used to calculate the filterbank shapes)\n",
    "    Output:\n",
    "        array of Mel filterbank log outputs [N x nmelfilters] where nmelfilters is the number\n",
    "        of filters in the filterbank\n",
    "    Note: use the trfbank function provided in lab1_tools.py to calculate the filterbank shapes and\n",
    "          nmelfilters\n",
    "    \"\"\"\n",
    "    nfft = input.shape[1]\n",
    "    tr_filter = trfbank(samplingrate, nfft)\n",
    "    return np.log(np.dot(input, tr_filter.transpose()))\n",
    "\n",
    "def cepstrum(input, nceps):\n",
    "    \"\"\"\n",
    "    Calulates Cepstral coefficients from mel spectrum applying Discrete Cosine Transform\n",
    "\n",
    "    Args:\n",
    "        input: array of log outputs of Mel scale filterbank [N x nmelfilters] where N is the\n",
    "               number of frames and nmelfilters the length of the filterbank\n",
    "        nceps: number of output cepstral coefficients\n",
    "    Output:\n",
    "        array of Cepstral coefficients [N x nceps]\n",
    "    Note: you can use the function dct from scipy.fftpack.realtransforms\n",
    "    \"\"\"\n",
    "    return dct(input)[:,0:nceps]\n",
    "\n",
    "def dtw(x, y, dist):\n",
    "    \"\"\"Dynamic Time Warping.\n",
    "\n",
    "    Args:\n",
    "        x, y: arrays of size NxD and MxD respectively, where D is the dimensionality\n",
    "              and N, M are the respective lenghts of the sequences\n",
    "        dist: distance function (can be used in the code as dist(x[i], y[j]))\n",
    "\n",
    "    Outputs:\n",
    "        d: global distance between the sequences (scalar) normalized to len(x)+len(y)\n",
    "        LD: local distance between frames from x and y (NxM matrix)\n",
    "        AD: accumulated distance between frames of x and y (NxM matrix)\n",
    "        path: best path thtough AD\n",
    "\n",
    "    Note that you only need to define the first output for this exercise.\n",
    "    \"\"\"\n",
    "\n",
    "    AD = np.zeros(dist.shape)\n",
    "    for i in range(len(x)):\n",
    "        for j in range(len(y)):\n",
    "            AD[i,j] = dist[i,j] + min(AD[i - 1, j], AD[i, j - 1], AD[i - 1, j - 1])\n",
    "    \n",
    "    d = AD[-1, -1]/(x.shape[0] + y.shape[0])\n",
    "\n",
    "    return d, dist, AD\n",
    "\n",
    "def viterbi(log_emlik, log_startprob, log_transmat, forceFinalState=True):\n",
    "    \"\"\"Viterbi path.\n",
    "    Args:\n",
    "        log_emlik: NxM array of emission log likelihoods, N frames, M states\n",
    "        log_startprob: log probability to start in state i\n",
    "        log_transmat: transition log probability from state i to j\n",
    "        forceFinalState: if True, start backtracking from the final state in\n",
    "                  the model, instead of the best state at the last time step\n",
    "    Output:\n",
    "        viterbi_loglik: log likelihood of the best path\n",
    "        viterbi_path: best path\n",
    "    \"\"\"\n",
    "\n",
    "    B = np.zeros(log_emlik.shape, dtype = int)\n",
    "    V = np.zeros(log_emlik.shape)\n",
    "    V[0] = log_startprob.flatten() + log_emlik[0]\n",
    "\n",
    "    for n in range(1, log_emlik.shape[0]):\n",
    "        for j in range(log_emlik.shape[1]):\n",
    "            V[n][j] = np.max(V[n - 1,:] + log_transmat[:,j]) + log_emlik[n, j]\n",
    "            B[n][j] = np.argmax(V[n - 1,:] + log_transmat[:,j])\n",
    "\n",
    "    lastIdx = np.argmax(V[log_emlik.shape[0] - 1])\n",
    "\n",
    "    viterbi_path = [lastIdx]\n",
    "    for i in reversed(range(1, B.shape[0])):\n",
    "        viterbi_path.append(B[i, viterbi_path[-1]])\n",
    "    viterbi_path.reverse()\n",
    "    viterbi_path = np.array(viterbi_path)\n",
    "\n",
    "    return np.max(V[ log_emlik.shape[0] - 1]), viterbi_path\n",
    "\n",
    "def log_multivariate_normal_density_diag(X, means, covars):\n",
    "    \"\"\"Compute Gaussian log-density at X for a diagonal model\n",
    "\n",
    "    Args:\n",
    "        X: array like, shape (n_observations, n_features)\n",
    "        means: array like, shape (n_components, n_features)\n",
    "        covars: array like, shape (n_components, n_features)\n",
    "\n",
    "    Output:\n",
    "        lpr: array like, shape (n_observations, n_components)\n",
    "    From scikit-learn/sklearn/mixture/gmm.py\n",
    "    \"\"\"\n",
    "    n_samples, n_dim = X.shape\n",
    "    lpr = -0.5 * (n_dim * np.log(2 * np.pi) + np.sum(np.log(covars), 1)\n",
    "                  + np.sum((means ** 2) / covars, 1)\n",
    "                  - 2 * np.dot(X, (means / covars).T)\n",
    "                  + np.dot(X ** 2, (1.0 / covars).T))\n",
    "    return lpr\n",
    "\n",
    "def concatTwoHMMs(hmm1, hmm2):\n",
    "    \"\"\" Concatenates 2 HMM models\n",
    "    Args:\n",
    "       hmm1, hmm2: two dictionaries with the following keys:\n",
    "           name: phonetic or word symbol corresponding to the model\n",
    "           startprob: M+1 array with priori probability of state\n",
    "           transmat: (M+1)x(M+1) transition matrix\n",
    "           means: MxD array of mean vectors\n",
    "           covars: MxD array of variances\n",
    "    D is the dimension of the feature vectors\n",
    "    M is the number of emitting states in each HMM model (could be different for each)\n",
    "    Output\n",
    "       dictionary with the same keys as the input but concatenated models:\n",
    "          startprob: K+1 array with priori probability of state\n",
    "          transmat: (K+1)x(K+1) transition matrix\n",
    "             means: KxD array of mean vectors\n",
    "            covars: KxD array of variances\n",
    "    K is the sum of the number of emitting states from the input models\n",
    "   \n",
    "    Example:\n",
    "       twoHMMs = concatHMMs(phoneHMMs['sil'], phoneHMMs['ow'])\n",
    "    See also: the concatenating_hmms.pdf document in the lab package\n",
    "    \"\"\"\n",
    "    \n",
    "    concatedHMM = {}\n",
    "    #M is the number of emitting states in each HMM model (could be different for each)\n",
    "    #K is the sum of the number of emitting states from the input models\n",
    "    \n",
    "    M1 = hmm1['means'].shape[0]\n",
    "    M2 = hmm2['means'].shape[0]\n",
    "    K = M1 + M2\n",
    "    \n",
    "    concatedHMM['name'] = hmm1['name'] + hmm2['name']\n",
    "    concatedHMM['startprob'] = np.zeros((K + 1, 1))\n",
    "    concatedHMM['transmat'] = np.zeros((K + 1, K + 1))\n",
    "    concatedHMM['means'] = np.vstack((hmm1['means'],hmm2['means']))\n",
    "    concatedHMM['covars'] = np.vstack((hmm1['covars'],hmm2['covars']))\n",
    "        \n",
    "    \n",
    "    start1 = hmm1['startprob'].reshape(-1,1)\n",
    "    start2 = hmm2['startprob'].reshape(-1,1)\n",
    "    \n",
    "    concatedHMM['startprob'][:hmm1['startprob'].shape[0]-1,:] = start1[:-1,:]\n",
    "    concatedHMM['startprob'][hmm1['startprob'].shape[0]-1:,:] = np.dot(start1[-1,0],start2)\n",
    "    trans = concatedHMM['transmat']\n",
    "    trans1 = hmm1['transmat']\n",
    "    trans2 = hmm2['transmat']\n",
    "\n",
    "    trans[:trans1.shape[0]-1,:trans1.shape[1]-1] = trans1[:-1,:-1]\n",
    "    temp = trans1[:-1,-1].reshape(-1,1)\n",
    "    trans[:trans1.shape[0]-1,trans1.shape[1]-1:] = \\\n",
    "                            np.dot(temp,start2.T)\n",
    "    trans[trans1.shape[0]-1:,trans1.shape[1]-1:] = trans2\n",
    "    concatedHMM['transmat'] = trans    \n",
    "    \n",
    "    return concatedHMM\n",
    "\n",
    "\n",
    "# this is already implemented, but based on concat2HMMs() above\n",
    "def concatHMMs(hmmmodels, namelist):\n",
    "    \"\"\" Concatenates HMM models in a left to right manner\n",
    "    Args:\n",
    "       hmmmodels: dictionary of models indexed by model name. \n",
    "       hmmmodels[name] is a dictionaries with the following keys:\n",
    "           name: phonetic or word symbol corresponding to the model\n",
    "           startprob: M+1 array with priori probability of state\n",
    "           transmat: (M+1)x(M+1) transition matrix\n",
    "           means: MxD array of mean vectors\n",
    "           covars: MxD array of variances\n",
    "       namelist: list of model names that we want to concatenate\n",
    "    D is the dimension of the feature vectors\n",
    "    M is the number of emitting states in each HMM model (could be\n",
    "      different in each model)\n",
    "    Output\n",
    "       combinedhmm: dictionary with the same keys as the input but\n",
    "                    combined models:\n",
    "         startprob: K+1 array with priori probability of state\n",
    "          transmat: (K+1)x(K+1) transition matrix\n",
    "             means: KxD array of mean vectors\n",
    "            covars: KxD array of variances\n",
    "    K is the sum of the number of emitting states from the input models\n",
    "    Example:\n",
    "       wordHMMs['o'] = concatHMMs(phoneHMMs, ['sil', 'ow', 'sil'])\n",
    "    \"\"\"\n",
    "    concat = hmmmodels[namelist[0]]\n",
    "    for idx in range(1,len(namelist)):\n",
    "        concat = concatTwoHMMs(concat, hmmmodels[namelist[idx]])\n",
    "    return concat"
   ]
  },
  {
   "cell_type": "code",
   "execution_count": 5,
   "metadata": {},
   "outputs": [],
   "source": [
    "PATH = '/Users/nandakishorprabhu/Documents/Studies/DT2119/Code'\n",
    "phoneHMMs = np.load('lab2_models_all.npz',allow_pickle=True)['phoneHMMs'].item()\n",
    "phones = sorted(phoneHMMs.keys())\n",
    "nstates = {phone: phoneHMMs[phone]['means'].shape[0] for phone in phones}\n",
    "# stateList = [ph + '_' + str(id) for ph in phones for id in range(nstates[ph])]\n",
    "# f = open(\"stateList.txt\",\"w\")\n",
    "# for state in stateList:\n",
    "#     f.write(f\"{state}\\n\")\n",
    "stateList = open(\"stateList.txt\", \"r\").readlines()\n",
    "stateList = [state.strip() for state in stateList]\n",
    "\n",
    "example_data = np.load(\"lab3_example.npz\", allow_pickle=True)['example']\n",
    "example_data = dict(enumerate(example_data.flatten(), 1))[1]\n",
    "filename = example_data['filename']\n",
    "wordTrans = list(path2info(filename)[2])\n",
    "# print(wordTrans)\n",
    "\n",
    "prondict = {}\n",
    "prondict['o'] = ['ow']\n",
    "prondict['z'] = ['z', 'iy', 'r', 'ow']\n",
    "prondict['1'] = ['w', 'ah', 'n']\n",
    "prondict['2'] = ['t', 'uw']\n",
    "prondict['3'] = ['th', 'r', 'iy']\n",
    "prondict['4'] = ['f', 'ao', 'r']\n",
    "prondict['5'] = ['f', 'ay', 'v']\n",
    "prondict['6'] = ['s', 'ih', 'k', 's']\n",
    "prondict['7'] = ['s', 'eh', 'v', 'ah', 'n']\n",
    "prondict['8'] = ['ey', 't']\n",
    "prondict['9'] = ['n', 'ay', 'n']\n",
    "\n",
    "phoneTrans = words2phones(wordTrans, prondict)\n",
    "# print(phoneTrans)\n",
    "\n",
    "utteranceHMM = concatHMMs(phoneHMMs, phoneTrans)\n",
    "# print(utteranceHMM)\n",
    "\n",
    "# stateTrans = [phone + '_' + str(stateid) for phone in phoneTrans for stateid in range(nstates[phone])]\n",
    "# f = open(\"stateTrans.txt\",\"w\")\n",
    "# for state in stateTrans:\n",
    "#     f.write(f\"{state}\\n\")\n",
    "stateTrans = open(\"stateTrans.txt\", \"r\").readlines()\n",
    "stateTrans = [state.strip() for state in stateTrans]\n",
    "# print(stateTrans[10])"
   ]
  },
  {
   "cell_type": "code",
   "execution_count": 6,
   "metadata": {},
   "outputs": [],
   "source": [
    "run = False\n",
    "if run:\n",
    "    # X = example_data['lmfcc']\n",
    "    # means = utteranceHMM['means']\n",
    "    # covars = utteranceHMM['covars']\n",
    "    # log_likelihood = log_multivariate_normal_density_diag(X,means,covars)\n",
    "\n",
    "    # log_startprob = np.log(utteranceHMM['startprob'][:-1])\n",
    "    # log_transmat = np.log(utteranceHMM['transmat'][:-1,:-1])\n",
    "\n",
    "    # prob,viterbiStateTrans = viterbi(log_likelihood,log_startprob,log_transmat)\n",
    "    # # print(viterbiStateTrans)\n",
    "\n",
    "    # vpath = [stateTrans[i] for i in viterbiStateTrans]\n",
    "    # print(vpath)\n",
    "    # viterbiStateTrans = forcedAlignment(example_data['lmfcc'], utteranceHMM, phoneTrans)\n",
    "    # vpath = [stateTrans[i] for i in viterbiStateTrans]\n",
    "    # print(vpath)\n",
    "    # frames = frames2trans(vpath, outfilename='z43a.lab')\n",
    "    # print(frames)\n",
    "\n",
    "    # filenames = ['/Users/nandakishorprabhu/Documents/Studies/DT2119/Code/traindata.npz']\n",
    "    # sets = ['/Users/nandakishorprabhu/Documents/Studies/DT2119/Code/tidigits/disc_4.1.1/tidigits/train']\n",
    "    filenames = ['traindata.npz']\n",
    "    sets = ['/Users/nandakishorprabhu/Documents/Studies/DT2119/Code/tidigits/disc_4.1.1/tidigits/train']\n",
    "    for idx, file_name in enumerate(filenames):\n",
    "        i = 0\n",
    "        if not os.path.isfile(file_name):\n",
    "            data = []\n",
    "            for root, dirs, files in os.walk(sets[idx]):\n",
    "                for file in files:\n",
    "                    if file.endswith('.wav'):\n",
    "                        filename = os.path.join(root, file)\n",
    "                        samples, samplingrate = loadAudio(filename)\n",
    "                        lmfcc = mfcc(samples)\n",
    "                        mspecs = mspec(samples)\n",
    "                        wordTrans = list(path2info(filename)[2])\n",
    "                        phoneTrans = words2phones(wordTrans, prondict)\n",
    "                        targets = forcedAlignment(lmfcc, utteranceHMM, phoneTrans)\n",
    "                        data.append({'filename': filename, 'lmfcc': lmfcc, 'mspec': mspecs, 'targets': targets})\n",
    "    #             if file_name == 'traindata.npz':\n",
    "    #                 np.savez('/Users/nandakishorprabhu/Documents/Studies/DT2119/Code/traindata.npz', traindata=data)\n",
    "    #             elif file_name == 'testdata.npz':\n",
    "    #                 np.savez(PATH + file_name, testdata=data)"
   ]
  },
  {
   "cell_type": "code",
   "execution_count": 7,
   "metadata": {},
   "outputs": [],
   "source": [
    "def prepare_features(datapath, saveName):\n",
    "    traindata = []\n",
    "#     stateList = list()\n",
    "#     with open(stateListPath) as f:\n",
    "#         for line in f:\n",
    "#             stateList.append(line.strip('\\n'))\n",
    "\n",
    "    totalfiles = 0\n",
    "    for root, dirs, files in os.walk(datapath):\n",
    "        for file in files:\n",
    "            if file.endswith('.wav'):\n",
    "                totalfiles += 1\n",
    "    count = 0\n",
    "    exit=False\n",
    "    for root, dirs, files in os.walk(datapath):\n",
    "        for file in files:\n",
    "            if file.endswith('.wav'):\n",
    "                filename = os.path.join(root, file)\n",
    "                samples, samplingrate = loadAudio(filename)\n",
    "                print(samples.shape)\n",
    "                if count>10: \n",
    "                    exit = True\n",
    "                    break\n",
    "                count+=1\n",
    "                lmfcc = mfcc(samples)\n",
    "                mspecs = mspec(samples)\n",
    "                wordTrans = list(path2info(filename)[2])\n",
    "                phoneTrans = words2phones(wordTrans, prondict, addShortPause=False)\n",
    "                targets = forcedAlignment(lmfcc, utteranceHMM, phoneTrans)\n",
    "\n",
    "                traindata.append({'filename': filename,\n",
    "                                 'lmfcc': lmfcc,\n",
    "                                 'mspec': mspecs,\n",
    "                                 'targets':targets})\n",
    "        if exit: break\n",
    "    return traindata"
   ]
  },
  {
   "cell_type": "code",
   "execution_count": 7,
   "metadata": {},
   "outputs": [
    {
     "name": "stdout",
     "output_type": "stream",
     "text": [
      "(89753,)\n"
     ]
    },
    {
     "name": "stderr",
     "output_type": "stream",
     "text": [
      "/home/ali/Desktop/speech/lab3/dt2119_lab3_2019-04-25/lab3_proto.py:50: RuntimeWarning: divide by zero encountered in log\n",
      "  log_startprob = np.log(phoneHMMs['startprob'][:-1])\n",
      "/home/ali/Desktop/speech/lab3/dt2119_lab3_2019-04-25/lab3_proto.py:51: RuntimeWarning: divide by zero encountered in log\n",
      "  log_transmat = np.log(phoneHMMs['transmat'][:-1,:-1])\n"
     ]
    },
    {
     "name": "stdout",
     "output_type": "stream",
     "text": [
      "(46570,)\n",
      "(29636,)\n",
      "(40361,)\n",
      "(39796,)\n",
      "(25402,)\n",
      "(21733,)\n",
      "(57295,)\n",
      "(84108,)\n",
      "(53344,)\n",
      "(36974,)\n",
      "(27096,)\n"
     ]
    }
   ],
   "source": [
    "traindata = prepare_features('/media/ali/Data/datasets/tidigits/disc_4.1.1/tidigits/train', 'traindata.npz')\n",
    "# np.savez('/Users/nandakishorprabhu/Documents/Studies/DT2119/Code/DT2119-Speech-and-Speaker-Recognition/lab3/traindata.npz', traindata = traindata)"
   ]
  },
  {
   "cell_type": "code",
   "execution_count": 8,
   "metadata": {},
   "outputs": [],
   "source": [
    "traindata = np.load('traindata.npz', allow_pickle = True)\n",
    "traindata = dict(zip((\"{}\".format(k) for k in traindata), (traindata[k] for k in traindata)))\n",
    "# print(traindata)\n",
    "male_speakers = np.unique([traindata['traindata'][i][\"filename\"].split('/')[6] \n",
    "                      for i in range(len(traindata['traindata']))\n",
    "                      if traindata['traindata'][i][\"filename\"].split('/')[4] == 'man'])\n",
    "female_speakers = np.unique([traindata['traindata'][i][\"filename\"].split('/')[6] \n",
    "                      for i in range(len(traindata['traindata'])) \n",
    "                      if traindata['traindata'][i][\"filename\"].split('/')[4] == 'woman'])\n",
    "\n",
    "\n",
    "m_train_speakers = male_speakers[0:math.floor(len(male_speakers)*0.9)]\n",
    "m_valid_speakers = male_speakers[math.floor(len(male_speakers)*0.9):]\n",
    "\n",
    "# print(len(m_train_speakers))\n",
    "# print(m_valid_speakers)\n",
    "\n",
    "m_train_data =  [traindata['traindata'][i] for i in range(len(traindata['traindata']))\n",
    "                  if traindata['traindata'][i][\"filename\"].split('/')[6] in m_train_speakers]\n",
    "\n",
    "m_valid_data =  [traindata['traindata'][i] for i in range(len(traindata['traindata'])) \n",
    "                  if traindata['traindata'][i][\"filename\"].split('/')[6] in m_valid_speakers]\n",
    "\n",
    "w_train_speakers = female_speakers[0:math.floor(len(female_speakers)*0.9)]\n",
    "w_valid_speakers = female_speakers[math.floor(len(female_speakers)*0.9):]\n",
    "\n",
    "w_train_data =  [traindata['traindata'][i] for i in range(len(traindata['traindata'])) \n",
    "                  if traindata['traindata'][i][\"filename\"].split('/')[6] in w_train_speakers]\n",
    "\n",
    "w_valid_data =  [traindata['traindata'][i] for i in range(len(traindata['traindata'])) \n",
    "                  if traindata['traindata'][i][\"filename\"].split('/')[6] in w_valid_speakers]\n",
    "\n",
    "training_data = m_train_data + w_train_data\n",
    "validation_data = m_valid_data + w_valid_data\n",
    "\n",
    "# print(\"Training Data : \", (len(training_data)/len(traindata['traindata']))*100)\n",
    "# print(\"Validation Data :\", (len(validation_data)/len(traindata['traindata']))*100)"
   ]
  },
  {
   "cell_type": "code",
   "execution_count": 9,
   "metadata": {},
   "outputs": [
    {
     "data": {
      "text/plain": [
       "{'filename': 'tidigits/disc_4.1.1/tidigits/train/man/pd/1a.wav',\n",
       " 'lmfcc': array([[  43.01650777, -141.25202819,   59.60007995, ...,  128.11223863,\n",
       "          104.41445571,  135.43272141],\n",
       "        [  13.35679752, -182.19497652,    2.69465077, ...,   53.47767919,\n",
       "           16.39576109,   55.70580523],\n",
       "        [  71.19330241, -188.39082508,  -26.02490997, ...,  -10.81831071,\n",
       "          -87.38847232,   58.53901174],\n",
       "        ...,\n",
       "        [  76.91332334, -181.0738616 , -107.38937949, ...,  -51.51982279,\n",
       "          -89.71896586,  119.36797839],\n",
       "        [  38.76448285, -183.14092644,  -88.5167919 , ...,  -44.35797218,\n",
       "           20.44035802,  -35.17777398],\n",
       "        [  13.70040257, -182.69825164,    4.14492783, ...,  153.46294155,\n",
       "          174.55826143,  115.67309518]]),\n",
       " 'mspec': array([[ 0.37777352,  0.5708152 , -0.51471206, ...,  2.12386981,\n",
       "          2.33704188,  2.30929536],\n",
       "        [-1.36438773, -0.64997345, -1.2547276 , ...,  1.27926628,\n",
       "          3.01333799,  3.22525867],\n",
       "        [-1.86031527, -2.13178914, -1.38817585, ...,  2.57049196,\n",
       "          3.35213562,  4.49668155],\n",
       "        ...,\n",
       "        [-1.14961215, -1.81790154, -1.98924745, ...,  2.52230517,\n",
       "          2.5251387 ,  2.50284957],\n",
       "        [-1.17040141, -2.03400188, -4.03953387, ...,  2.84344206,\n",
       "          2.00523295,  2.63335442],\n",
       "        [-0.37336952, -1.59085588, -1.3252144 , ...,  2.49137565,\n",
       "          1.8770045 ,  2.26909298]]),\n",
       " 'targets': array([ 0,  1,  1,  1,  1,  1,  1,  1,  1,  1,  1,  1,  1,  1,  1,  1,  1,\n",
       "         1,  2,  3,  4,  5,  6,  7,  8,  9, 10, 11, 12, 13, 14, 16, 17, 18,\n",
       "        19, 20, 21, 21, 21, 21, 21, 21, 21, 21, 22, 23, 24, 26, 27, 28, 28,\n",
       "        29, 30, 31, 32, 33, 34, 34, 34, 36, 36, 36, 36, 36, 36, 36, 36, 36,\n",
       "        36, 36, 36, 36, 36, 36, 37, 37, 37, 37, 37, 37, 37, 37, 37, 37, 37,\n",
       "        37, 37, 37, 38, 38, 38, 38])}"
      ]
     },
     "execution_count": 9,
     "metadata": {},
     "output_type": "execute_result"
    }
   ],
   "source": [
    "training_data[0]"
   ]
  },
  {
   "cell_type": "code",
   "execution_count": 10,
   "metadata": {},
   "outputs": [],
   "source": [
    "def dynamize_features(data, feature_type):\n",
    "    for sample in (data):\n",
    "        # print(sample)\n",
    "        dynamic_features = []\n",
    "        max_idx = len(sample[feature_type]) - 1\n",
    "        for idx, feature in enumerate(sample[feature_type]):\n",
    "            dynamic_feature = np.zeros((7, feature.shape[0]))\n",
    "\n",
    "            dynamic_feature[0] = sample[feature_type][np.abs(idx - 3)]\n",
    "            dynamic_feature[1] = sample[feature_type][np.abs(idx - 2)]\n",
    "            dynamic_feature[2] = sample[feature_type][np.abs(idx - 1)]\n",
    "            dynamic_feature[3] = sample[feature_type][idx]\n",
    "            dynamic_feature[4] = sample[feature_type][max_idx - np.abs(max_idx - (idx + 1))]\n",
    "            dynamic_feature[5] = sample[feature_type][max_idx - np.abs(max_idx - (idx + 2))]\n",
    "            dynamic_feature[6] = sample[feature_type][max_idx - np.abs(max_idx - (idx + 3))]\n",
    "            dynamic_features.append(dynamic_feature)\n",
    "        sample['dynamic_'+feature_type] = np.array(dynamic_features)\n",
    "    return data"
   ]
  },
  {
   "cell_type": "code",
   "execution_count": 11,
   "metadata": {},
   "outputs": [
    {
     "name": "stdout",
     "output_type": "stream",
     "text": [
      "Original Features  (92, 13)\n",
      "Dynamic Features  (92, 7, 13)\n",
      "Total number of data points is 11534\n"
     ]
    }
   ],
   "source": [
    "training_data_lmfcc = dynamize_features(training_data[:], 'lmfcc')\n",
    "training_data_mspec = dynamize_features(training_data[:], 'mspec')\n",
    "\n",
    "validation_data_lmfcc = dynamize_features(validation_data[:], 'lmfcc')\n",
    "validation_data_mspec = dynamize_features(validation_data[:], 'mspec')\n",
    "\n",
    "print(\"Original Features \", training_data_lmfcc[0][\"lmfcc\"].shape)\n",
    "print(\"Dynamic Features \", training_data_lmfcc[0]['dynamic_lmfcc'].shape)\n",
    "\n",
    "print(\"Total number of data points is\", len(training_data_lmfcc))"
   ]
  },
  {
   "cell_type": "code",
   "execution_count": 12,
   "metadata": {},
   "outputs": [],
   "source": [
    "scaler = StandardScaler()"
   ]
  },
  {
   "cell_type": "code",
   "execution_count": 13,
   "metadata": {},
   "outputs": [],
   "source": [
    "for i in range(len(training_data_lmfcc)):\n",
    "    training_data_lmfcc[i]['lmfcc'] = scaler.fit_transform(training_data_lmfcc[i]['lmfcc'])\n",
    "for i in range(len(validation_data_lmfcc)):\n",
    "    validation_data_lmfcc[i]['lmfcc'] = scaler.fit_transform(validation_data_lmfcc[i]['lmfcc'])\n",
    "    \n",
    "for i in range(len(training_data_mspec)):\n",
    "    training_data_mspec[i]['mspec'] = scaler.fit_transform(training_data_mspec[i]['mspec'])\n",
    "for i in range(len(validation_data_lmfcc)):\n",
    "    validation_data_mspec[i]['mspec'] = scaler.fit_transform(validation_data_mspec[i]['mspec'])"
   ]
  },
  {
   "cell_type": "markdown",
   "metadata": {},
   "source": [
    "## LMFCC"
   ]
  },
  {
   "cell_type": "code",
   "execution_count": 45,
   "metadata": {},
   "outputs": [],
   "source": [
    "lmfcc_train_x = []\n",
    "lmfcc_train_y = []\n",
    "\n",
    "lmfcc_val_x = []\n",
    "lmfcc_val_y = []\n",
    "\n",
    "for train in training_data_lmfcc:\n",
    "    lmfcc_train_x.extend(train['lmfcc'])\n",
    "    lmfcc_train_y.extend(train['targets'])\n",
    "\n",
    "for val in validation_data_lmfcc:\n",
    "    lmfcc_val_x.extend(val['lmfcc'])\n",
    "    lmfcc_val_y.extend(val['targets'])\n",
    "    \n",
    "lmfcc_train_x = np.array(lmfcc_train_x)\n",
    "lmfcc_train_y = np.array(lmfcc_train_y)\n",
    "lmfcc_val_x = np.array(lmfcc_val_x)\n",
    "lmfcc_val_y = np.array(lmfcc_val_y)"
   ]
  },
  {
   "cell_type": "code",
   "execution_count": 46,
   "metadata": {},
   "outputs": [
    {
     "data": {
      "text/plain": [
       "(1778403, 13)"
      ]
     },
     "execution_count": 46,
     "metadata": {},
     "output_type": "execute_result"
    }
   ],
   "source": [
    "lmfcc_train_x.shape"
   ]
  },
  {
   "cell_type": "code",
   "execution_count": 47,
   "metadata": {},
   "outputs": [
    {
     "data": {
      "text/plain": [
       "array([-1.77351498, -1.01644087,  0.70793816, -0.38173287, -0.04858718,\n",
       "       -0.42100821, -0.34396103,  0.38942081,  0.76869813,  0.30281535,\n",
       "       -0.44287324, -0.23022873,  1.03346689])"
      ]
     },
     "execution_count": 47,
     "metadata": {},
     "output_type": "execute_result"
    }
   ],
   "source": [
    "lmfcc_train_x[100]"
   ]
  },
  {
   "cell_type": "code",
   "execution_count": 48,
   "metadata": {},
   "outputs": [
    {
     "name": "stdout",
     "output_type": "stream",
     "text": [
      "(1778403, 13) (208453, 13)\n"
     ]
    }
   ],
   "source": [
    "print(lmfcc_train_x.shape, lmfcc_val_x.shape)"
   ]
  },
  {
   "cell_type": "code",
   "execution_count": 49,
   "metadata": {},
   "outputs": [],
   "source": [
    "one_hot_encoding = True\n",
    "if one_hot_encoding:\n",
    "    from keras.utils import to_categorical\n",
    "    lmfcc_train_y = to_categorical(lmfcc_train_y, num_classes=39)\n",
    "    lmfcc_val_y = to_categorical(lmfcc_val_y, num_classes=39)"
   ]
  },
  {
   "cell_type": "code",
   "execution_count": 50,
   "metadata": {},
   "outputs": [
    {
     "name": "stdout",
     "output_type": "stream",
     "text": [
      "(1778403, 39) (208453, 39)\n"
     ]
    }
   ],
   "source": [
    "print(lmfcc_train_y.shape, lmfcc_val_y.shape)"
   ]
  },
  {
   "cell_type": "code",
   "execution_count": 51,
   "metadata": {},
   "outputs": [],
   "source": [
    "train_X = lmfcc_train_x\n",
    "train_y = lmfcc_train_y\n",
    "\n",
    "val_X = lmfcc_val_x\n",
    "val_y = lmfcc_val_y"
   ]
  },
  {
   "cell_type": "code",
   "execution_count": 52,
   "metadata": {},
   "outputs": [],
   "source": [
    "train_X = train_X.astype('float32')\n",
    "val_X = val_X.astype('float32')"
   ]
  },
  {
   "cell_type": "code",
   "execution_count": 53,
   "metadata": {},
   "outputs": [
    {
     "name": "stdout",
     "output_type": "stream",
     "text": [
      "(1778403, 13) (1778403, 39)\n",
      "(208453, 13) (208453, 39)\n"
     ]
    }
   ],
   "source": [
    "print(train_X.shape, train_y.shape)\n",
    "print(val_X.shape, val_y.shape)"
   ]
  },
  {
   "cell_type": "code",
   "execution_count": 54,
   "metadata": {},
   "outputs": [
    {
     "name": "stdout",
     "output_type": "stream",
     "text": [
      "Model: \"sequential_3\"\n",
      "_________________________________________________________________\n",
      "Layer (type)                 Output Shape              Param #   \n",
      "=================================================================\n",
      "dense_11 (Dense)             (None, 1, 256)            3584      \n",
      "_________________________________________________________________\n",
      "dense_12 (Dense)             (None, 1, 256)            65792     \n",
      "_________________________________________________________________\n",
      "dense_13 (Dense)             (None, 1, 256)            65792     \n",
      "_________________________________________________________________\n",
      "dense_14 (Dense)             (None, 1, 39)             10023     \n",
      "=================================================================\n",
      "Total params: 145,191\n",
      "Trainable params: 145,191\n",
      "Non-trainable params: 0\n",
      "_________________________________________________________________\n"
     ]
    }
   ],
   "source": [
    "from keras.models import Sequential\n",
    "from keras.layers import Dense\n",
    "\n",
    "model = Sequential()\n",
    "model.add(Dense(256, input_shape=(1,train_X.shape[1])))\n",
    "model.add(Dense(256))\n",
    "model.add(Dense(256))\n",
    "model.add(Dense(train_y.shape[1], activation=\"softmax\"))\n",
    "# model.add(Dense(1, activation=\"softmax\"))\n",
    "\n",
    "model.summary()"
   ]
  },
  {
   "cell_type": "code",
   "execution_count": 55,
   "metadata": {},
   "outputs": [],
   "source": [
    "model.compile(optimizer='adam', loss='categorical_crossentropy', metrics = ['accuracy'])"
   ]
  },
  {
   "cell_type": "code",
   "execution_count": 56,
   "metadata": {},
   "outputs": [
    {
     "name": "stdout",
     "output_type": "stream",
     "text": [
      "Epoch 1/10\n",
      "WARNING:tensorflow:Model was constructed with shape (None, 1, 13) for input KerasTensor(type_spec=TensorSpec(shape=(None, 1, 13), dtype=tf.float32, name='dense_11_input'), name='dense_11_input', description=\"created by layer 'dense_11_input'\"), but it was called on an input with incompatible shape (None, 13).\n",
      "WARNING:tensorflow:Model was constructed with shape (None, 1, 13) for input KerasTensor(type_spec=TensorSpec(shape=(None, 1, 13), dtype=tf.float32, name='dense_11_input'), name='dense_11_input', description=\"created by layer 'dense_11_input'\"), but it was called on an input with incompatible shape (None, 13).\n",
      "55560/55576 [============================>.] - ETA: 0s - loss: 2.5243 - accuracy: 0.2638WARNING:tensorflow:Model was constructed with shape (None, 1, 13) for input KerasTensor(type_spec=TensorSpec(shape=(None, 1, 13), dtype=tf.float32, name='dense_11_input'), name='dense_11_input', description=\"created by layer 'dense_11_input'\"), but it was called on an input with incompatible shape (None, 13).\n",
      "55576/55576 [==============================] - 78s 1ms/step - loss: 2.5243 - accuracy: 0.2638 - val_loss: 2.3882 - val_accuracy: 0.3007\n",
      "Epoch 2/10\n",
      "55576/55576 [==============================] - 79s 1ms/step - loss: 2.4863 - accuracy: 0.2736 - val_loss: 2.3766 - val_accuracy: 0.2931\n",
      "Epoch 3/10\n",
      "55576/55576 [==============================] - 79s 1ms/step - loss: 2.4792 - accuracy: 0.2756 - val_loss: 2.3802 - val_accuracy: 0.2902\n",
      "Epoch 4/10\n",
      "55576/55576 [==============================] - 77s 1ms/step - loss: 2.4785 - accuracy: 0.2761 - val_loss: 2.3612 - val_accuracy: 0.3039\n",
      "Epoch 5/10\n",
      "55576/55576 [==============================] - 77s 1ms/step - loss: 2.4765 - accuracy: 0.2770 - val_loss: 2.3664 - val_accuracy: 0.3021\n",
      "Epoch 6/10\n",
      "55576/55576 [==============================] - 78s 1ms/step - loss: 2.4762 - accuracy: 0.2768 - val_loss: 2.3719 - val_accuracy: 0.3009\n",
      "Epoch 7/10\n",
      "55576/55576 [==============================] - 78s 1ms/step - loss: 2.4762 - accuracy: 0.2762 - val_loss: 2.3700 - val_accuracy: 0.3025\n",
      "Epoch 8/10\n",
      "55576/55576 [==============================] - 78s 1ms/step - loss: 2.4758 - accuracy: 0.2768 - val_loss: 2.3698 - val_accuracy: 0.3068\n",
      "Epoch 9/10\n",
      "55576/55576 [==============================] - 77s 1ms/step - loss: 2.4756 - accuracy: 0.2763 - val_loss: 2.3839 - val_accuracy: 0.3038\n",
      "Epoch 10/10\n",
      "55576/55576 [==============================] - 77s 1ms/step - loss: 2.4763 - accuracy: 0.2765 - val_loss: 2.3644 - val_accuracy: 0.3040\n"
     ]
    }
   ],
   "source": [
    "history = model.fit(\n",
    "    train_X, \n",
    "    train_y, \n",
    "    validation_data=(val_X, val_y), \n",
    "    epochs=10\n",
    ")"
   ]
  },
  {
   "cell_type": "code",
   "execution_count": 57,
   "metadata": {},
   "outputs": [
    {
     "data": {
      "text/plain": [
       "Text(0, 0.5, 'accuracy')"
      ]
     },
     "execution_count": 57,
     "metadata": {},
     "output_type": "execute_result"
    },
    {
     "data": {
      "image/png": "[encoded data removed]",
      "text/plain": [
       "<Figure size 432x288 with 1 Axes>"
      ]
     },
     "metadata": {
      "needs_background": "light"
     },
     "output_type": "display_data"
    },
    {
     "data": {
      "image/png": "[encoded data removed]",
      "text/plain": [
       "<Figure size 432x288 with 1 Axes>"
      ]
     },
     "metadata": {
      "needs_background": "light"
     },
     "output_type": "display_data"
    }
   ],
   "source": [
    "import matplotlib.pyplot as plt\n",
    "\n",
    "plt.figure()\n",
    "plt.plot(history.history['loss'], label = 'training loss')\n",
    "plt.plot(history.history['val_loss'], label = 'validation loss')\n",
    "plt.legend()\n",
    "plt.xlabel('epochs')\n",
    "plt.ylabel('loss')\n",
    "plt.figure()\n",
    "plt.plot(history.history['accuracy'], label = 'training accuracy')\n",
    "plt.plot(history.history['val_accuracy'], label = 'validation accuracy')\n",
    "plt.legend()\n",
    "plt.xlabel('epochs')\n",
    "plt.ylabel('accuracy')"
   ]
  },
  {
   "cell_type": "markdown",
   "metadata": {},
   "source": [
    "## MSPECS"
   ]
  },
  {
   "cell_type": "code",
   "execution_count": 58,
   "metadata": {},
   "outputs": [],
   "source": [
    "mspec_train_x = []\n",
    "mspec_train_y = []\n",
    "\n",
    "mspec_val_x = []\n",
    "mspec_val_y = []\n",
    "\n",
    "for train in training_data_mspec:\n",
    "    mspec_train_x.extend(train['mspec'])\n",
    "    mspec_train_y.extend(train['targets'])\n",
    "\n",
    "for val in validation_data_mspec:\n",
    "    mspec_val_x.extend(val['mspec'])\n",
    "    mspec_val_y.extend(val['targets'])\n",
    "    \n",
    "mspec_train_x = np.array(mspec_train_x)\n",
    "mspec_train_y = np.array(mspec_train_y)\n",
    "mspec_val_x = np.array(mspec_val_x)\n",
    "mspec_val_y = np.array(mspec_val_y)"
   ]
  },
  {
   "cell_type": "code",
   "execution_count": 59,
   "metadata": {},
   "outputs": [
    {
     "data": {
      "text/plain": [
       "(1778403, 40)"
      ]
     },
     "execution_count": 59,
     "metadata": {},
     "output_type": "execute_result"
    }
   ],
   "source": [
    "mspec_train_x.shape"
   ]
  },
  {
   "cell_type": "code",
   "execution_count": 60,
   "metadata": {},
   "outputs": [
    {
     "data": {
      "text/plain": [
       "array([-1.76607087, -1.70403258, -1.64408661, -1.59518212, -1.84445561,\n",
       "       -1.57111241, -1.41104751, -1.43150182, -1.37646212, -1.45427389,\n",
       "       -1.43994499, -1.54446313, -1.68965317, -1.5008792 , -1.56586032,\n",
       "       -1.66616256, -1.71821258, -1.64426662, -1.59469598, -1.54841113,\n",
       "       -1.51498154, -1.42905199, -1.74246584, -2.01793904, -1.97144323,\n",
       "       -1.50225825, -1.56551362, -1.70293884, -1.36209593, -1.63023658,\n",
       "       -1.73177543, -1.47290484, -1.27532227, -1.3472705 , -1.35031647,\n",
       "       -1.3044627 , -1.3698609 , -1.28316179, -1.15013966, -1.22816578])"
      ]
     },
     "execution_count": 60,
     "metadata": {},
     "output_type": "execute_result"
    }
   ],
   "source": [
    "mspec_train_x[100]"
   ]
  },
  {
   "cell_type": "code",
   "execution_count": 61,
   "metadata": {},
   "outputs": [
    {
     "name": "stdout",
     "output_type": "stream",
     "text": [
      "(1778403, 40) (208453, 40)\n",
      "(1778403,) (208453,)\n"
     ]
    }
   ],
   "source": [
    "print(mspec_train_x.shape, mspec_val_x.shape)\n",
    "print(mspec_train_y.shape, mspec_val_y.shape)"
   ]
  },
  {
   "cell_type": "code",
   "execution_count": 62,
   "metadata": {},
   "outputs": [],
   "source": [
    "from keras.utils import to_categorical\n",
    "mspec_train_y = to_categorical(mspec_train_y, num_classes=40)\n",
    "mspec_val_y = to_categorical(mspec_val_y, num_classes=40)"
   ]
  },
  {
   "cell_type": "code",
   "execution_count": 63,
   "metadata": {},
   "outputs": [
    {
     "name": "stdout",
     "output_type": "stream",
     "text": [
      "(1778403, 40) (208453, 40)\n"
     ]
    }
   ],
   "source": [
    "print(mspec_train_y.shape, mspec_val_y.shape)"
   ]
  },
  {
   "cell_type": "code",
   "execution_count": 64,
   "metadata": {},
   "outputs": [],
   "source": [
    "train_X = mspec_train_x\n",
    "train_y = mspec_train_y\n",
    "\n",
    "val_X = mspec_val_x\n",
    "val_y = mspec_val_y"
   ]
  },
  {
   "cell_type": "code",
   "execution_count": 65,
   "metadata": {},
   "outputs": [],
   "source": [
    "train_X = train_X.astype('float32')\n",
    "val_X = val_X.astype('float32')"
   ]
  },
  {
   "cell_type": "code",
   "execution_count": 69,
   "metadata": {},
   "outputs": [
    {
     "name": "stdout",
     "output_type": "stream",
     "text": [
      "Model: \"sequential_5\"\n",
      "_________________________________________________________________\n",
      "Layer (type)                 Output Shape              Param #   \n",
      "=================================================================\n",
      "dense_19 (Dense)             (None, 1, 256)            10496     \n",
      "_________________________________________________________________\n",
      "dense_20 (Dense)             (None, 1, 256)            65792     \n",
      "_________________________________________________________________\n",
      "dense_21 (Dense)             (None, 1, 256)            65792     \n",
      "_________________________________________________________________\n",
      "dense_22 (Dense)             (None, 1, 40)             10280     \n",
      "=================================================================\n",
      "Total params: 152,360\n",
      "Trainable params: 152,360\n",
      "Non-trainable params: 0\n",
      "_________________________________________________________________\n"
     ]
    }
   ],
   "source": [
    "from keras.models import Sequential\n",
    "from keras.layers import Dense\n",
    "\n",
    "model = Sequential()\n",
    "model.add(Dense(256, input_shape=(1,train_X.shape[1])))\n",
    "model.add(Dense(256))\n",
    "model.add(Dense(256))\n",
    "model.add(Dense(train_y.shape[1], activation=\"softmax\"))\n",
    "\n",
    "model.summary()"
   ]
  },
  {
   "cell_type": "code",
   "execution_count": 70,
   "metadata": {},
   "outputs": [],
   "source": [
    "model.compile(optimizer='adam', loss='categorical_crossentropy', metrics = ['accuracy'])"
   ]
  },
  {
   "cell_type": "code",
   "execution_count": 71,
   "metadata": {},
   "outputs": [
    {
     "name": "stdout",
     "output_type": "stream",
     "text": [
      "Epoch 1/10\n",
      "WARNING:tensorflow:Model was constructed with shape (None, 1, 40) for input KerasTensor(type_spec=TensorSpec(shape=(None, 1, 40), dtype=tf.float32, name='dense_19_input'), name='dense_19_input', description=\"created by layer 'dense_19_input'\"), but it was called on an input with incompatible shape (None, 40).\n",
      "WARNING:tensorflow:Model was constructed with shape (None, 1, 40) for input KerasTensor(type_spec=TensorSpec(shape=(None, 1, 40), dtype=tf.float32, name='dense_19_input'), name='dense_19_input', description=\"created by layer 'dense_19_input'\"), but it was called on an input with incompatible shape (None, 40).\n",
      "55545/55576 [============================>.] - ETA: 0s - loss: 2.5511 - accuracy: 0.2542WARNING:tensorflow:Model was constructed with shape (None, 1, 40) for input KerasTensor(type_spec=TensorSpec(shape=(None, 1, 40), dtype=tf.float32, name='dense_19_input'), name='dense_19_input', description=\"created by layer 'dense_19_input'\"), but it was called on an input with incompatible shape (None, 40).\n",
      "55576/55576 [==============================] - 78s 1ms/step - loss: 2.5510 - accuracy: 0.2542 - val_loss: 2.4262 - val_accuracy: 0.2656\n",
      "Epoch 2/10\n",
      "55576/55576 [==============================] - 80s 1ms/step - loss: 2.5028 - accuracy: 0.2673 - val_loss: 2.4175 - val_accuracy: 0.2704\n",
      "Epoch 3/10\n",
      "55576/55576 [==============================] - 78s 1ms/step - loss: 2.4975 - accuracy: 0.2688 - val_loss: 2.4013 - val_accuracy: 0.2833\n",
      "Epoch 4/10\n",
      "55576/55576 [==============================] - 81s 1ms/step - loss: 2.4933 - accuracy: 0.2695 - val_loss: 2.3904 - val_accuracy: 0.2902\n",
      "Epoch 5/10\n",
      "55576/55576 [==============================] - 79s 1ms/step - loss: 2.4928 - accuracy: 0.2708 - val_loss: 2.4169 - val_accuracy: 0.2799\n",
      "Epoch 6/10\n",
      "55576/55576 [==============================] - 79s 1ms/step - loss: 2.4924 - accuracy: 0.2707 - val_loss: 2.3974 - val_accuracy: 0.2905\n",
      "Epoch 7/10\n",
      "55576/55576 [==============================] - 79s 1ms/step - loss: 2.4923 - accuracy: 0.2708 - val_loss: 2.3944 - val_accuracy: 0.2902\n",
      "Epoch 8/10\n",
      "55576/55576 [==============================] - 81s 1ms/step - loss: 2.4921 - accuracy: 0.2705 - val_loss: 2.3787 - val_accuracy: 0.3013\n",
      "Epoch 9/10\n",
      "55576/55576 [==============================] - 80s 1ms/step - loss: 2.4915 - accuracy: 0.2711 - val_loss: 2.3997 - val_accuracy: 0.2825\n",
      "Epoch 10/10\n",
      "55576/55576 [==============================] - 81s 1ms/step - loss: 2.4890 - accuracy: 0.2716 - val_loss: 2.4047 - val_accuracy: 0.2879\n"
     ]
    }
   ],
   "source": [
    "history = model.fit(\n",
    "    train_X, \n",
    "    train_y, \n",
    "    validation_data=(val_X, val_y), \n",
    "    epochs=10\n",
    ")"
   ]
  },
  {
   "cell_type": "code",
   "execution_count": 72,
   "metadata": {},
   "outputs": [
    {
     "data": {
      "text/plain": [
       "Text(0, 0.5, 'accuracy')"
      ]
     },
     "execution_count": 72,
     "metadata": {},
     "output_type": "execute_result"
    },
    {
     "data": {
      "image/png": "[encoded data removed]",
      "text/plain": [
       "<Figure size 432x288 with 1 Axes>"
      ]
     },
     "metadata": {
      "needs_background": "light"
     },
     "output_type": "display_data"
    },
    {
     "data": {
      "image/png": "[encoded data removed]",
      "text/plain": [
       "<Figure size 432x288 with 1 Axes>"
      ]
     },
     "metadata": {
      "needs_background": "light"
     },
     "output_type": "display_data"
    }
   ],
   "source": [
    "import matplotlib.pyplot as plt\n",
    "\n",
    "plt.figure()\n",
    "plt.plot(history.history['loss'], label = 'training loss')\n",
    "plt.plot(history.history['val_loss'], label = 'validation loss')\n",
    "plt.legend()\n",
    "plt.xlabel('epochs')\n",
    "plt.ylabel('loss')\n",
    "plt.figure()\n",
    "plt.plot(history.history['accuracy'], label = 'training accuracy')\n",
    "plt.plot(history.history['val_accuracy'], label = 'validation accuracy')\n",
    "plt.legend()\n",
    "plt.xlabel('epochs')\n",
    "plt.ylabel('accuracy')"
   ]
  },
  {
   "cell_type": "markdown",
   "metadata": {},
   "source": [
    "## DYNAMIC LMFCC"
   ]
  },
  {
   "cell_type": "code",
   "execution_count": 12,
   "metadata": {},
   "outputs": [],
   "source": [
    "lmfcc_train_x = []\n",
    "lmfcc_train_y = []\n",
    "\n",
    "lmfcc_val_x = []\n",
    "lmfcc_val_y = []\n",
    "\n",
    "for train in training_data_lmfcc:\n",
    "    lmfcc_train_x.extend(train['dynamic_lmfcc'])\n",
    "    lmfcc_train_y.extend(train['targets'])\n",
    "\n",
    "for val in validation_data_lmfcc:\n",
    "    lmfcc_val_x.extend(val['dynamic_lmfcc'])\n",
    "    lmfcc_val_y.extend(val['targets'])\n",
    "    \n",
    "lmfcc_train_x = np.array(lmfcc_train_x)\n",
    "lmfcc_train_y = np.array(lmfcc_train_y)\n",
    "lmfcc_val_x = np.array(lmfcc_val_x)\n",
    "lmfcc_val_y = np.array(lmfcc_val_y)"
   ]
  },
  {
   "cell_type": "code",
   "execution_count": 13,
   "metadata": {},
   "outputs": [
    {
     "data": {
      "text/plain": [
       "(92, 7, 13)"
      ]
     },
     "execution_count": 13,
     "metadata": {},
     "output_type": "execute_result"
    }
   ],
   "source": [
    "training_data_lmfcc[0]['dynamic_lmfcc'].shape"
   ]
  },
  {
   "cell_type": "code",
   "execution_count": 14,
   "metadata": {},
   "outputs": [
    {
     "name": "stdout",
     "output_type": "stream",
     "text": [
      "(1778403, 7, 13) (208453, 7, 13)\n"
     ]
    }
   ],
   "source": [
    "print(lmfcc_train_x.shape, lmfcc_val_x.shape)"
   ]
  },
  {
   "cell_type": "code",
   "execution_count": 15,
   "metadata": {},
   "outputs": [],
   "source": [
    "one_hot_encoding = True\n",
    "if one_hot_encoding:\n",
    "    from keras.utils import to_categorical\n",
    "    lmfcc_train_y = to_categorical(lmfcc_train_y, num_classes=39)\n",
    "    lmfcc_val_y = to_categorical(lmfcc_val_y, num_classes=39)"
   ]
  },
  {
   "cell_type": "code",
   "execution_count": 16,
   "metadata": {},
   "outputs": [
    {
     "name": "stdout",
     "output_type": "stream",
     "text": [
      "(1778403, 39) (208453, 39)\n"
     ]
    }
   ],
   "source": [
    "print(lmfcc_train_y.shape, lmfcc_val_y.shape)"
   ]
  },
  {
   "cell_type": "code",
   "execution_count": 17,
   "metadata": {},
   "outputs": [],
   "source": [
    "train_X = lmfcc_train_x\n",
    "train_y = lmfcc_train_y\n",
    "\n",
    "val_X = lmfcc_val_x\n",
    "val_y = lmfcc_val_y"
   ]
  },
  {
   "cell_type": "code",
   "execution_count": 18,
   "metadata": {},
   "outputs": [],
   "source": [
    "train_X = train_X.astype('float32')\n",
    "val_X = val_X.astype('float32')"
   ]
  },
  {
   "cell_type": "code",
   "execution_count": 19,
   "metadata": {},
   "outputs": [
    {
     "name": "stdout",
     "output_type": "stream",
     "text": [
      "(1778403, 7, 13) (1778403, 39)\n",
      "(208453, 7, 13) (208453, 39)\n"
     ]
    }
   ],
   "source": [
    "print(train_X.shape, train_y.shape)\n",
    "print(val_X.shape, val_y.shape)"
   ]
  },
  {
   "cell_type": "code",
   "execution_count": 20,
   "metadata": {},
   "outputs": [
    {
     "name": "stdout",
     "output_type": "stream",
     "text": [
      "(1778403, 91)\n",
      "(208453, 91)\n"
     ]
    }
   ],
   "source": [
    "train_X = np.reshape(train_X,(train_X.shape[0], train_X.shape[1]*train_X.shape[2]))\n",
    "val_X = np.reshape(val_X,(val_X.shape[0], val_X.shape[1]*val_X.shape[2]))\n",
    "    \n",
    "print(train_X.shape)\n",
    "print(val_X.shape)"
   ]
  },
  {
   "cell_type": "code",
   "execution_count": 21,
   "metadata": {},
   "outputs": [
    {
     "name": "stdout",
     "output_type": "stream",
     "text": [
      "Model: \"sequential\"\n",
      "_________________________________________________________________\n",
      "Layer (type)                 Output Shape              Param #   \n",
      "=================================================================\n",
      "dense (Dense)                (None, 1, 256)            23552     \n",
      "_________________________________________________________________\n",
      "dense_1 (Dense)              (None, 1, 256)            65792     \n",
      "_________________________________________________________________\n",
      "dense_2 (Dense)              (None, 1, 256)            65792     \n",
      "_________________________________________________________________\n",
      "dense_3 (Dense)              (None, 1, 39)             10023     \n",
      "=================================================================\n",
      "Total params: 165,159\n",
      "Trainable params: 165,159\n",
      "Non-trainable params: 0\n",
      "_________________________________________________________________\n"
     ]
    }
   ],
   "source": [
    "from keras.models import Sequential\n",
    "from keras.layers import Dense\n",
    "\n",
    "model = Sequential()\n",
    "model.add(Dense(256, activation='relu', input_shape=(1,train_X.shape[1])))\n",
    "model.add(Dense(256, activation='relu'))\n",
    "model.add(Dense(256, activation='relu'))\n",
    "model.add(Dense(train_y.shape[1], activation=\"softmax\"))\n",
    "# model.add(Dense(1, activation=\"softmax\"))\n",
    "\n",
    "model.summary()"
   ]
  },
  {
   "cell_type": "code",
   "execution_count": 22,
   "metadata": {},
   "outputs": [],
   "source": [
    "model.compile(optimizer='adam', loss='categorical_crossentropy', metrics = ['accuracy'])"
   ]
  },
  {
   "cell_type": "code",
   "execution_count": null,
   "metadata": {},
   "outputs": [
    {
     "name": "stdout",
     "output_type": "stream",
     "text": [
      "Epoch 1/10\n",
      "WARNING:tensorflow:Model was constructed with shape (None, 1, 91) for input KerasTensor(type_spec=TensorSpec(shape=(None, 1, 91), dtype=tf.float32, name='dense_input'), name='dense_input', description=\"created by layer 'dense_input'\"), but it was called on an input with incompatible shape (None, 91).\n",
      "WARNING:tensorflow:Model was constructed with shape (None, 1, 91) for input KerasTensor(type_spec=TensorSpec(shape=(None, 1, 91), dtype=tf.float32, name='dense_input'), name='dense_input', description=\"created by layer 'dense_input'\"), but it was called on an input with incompatible shape (None, 91).\n",
      "55559/55576 [============================>.] - ETA: 0s - loss: 2.6150 - accuracy: 0.3269WARNING:tensorflow:Model was constructed with shape (None, 1, 91) for input KerasTensor(type_spec=TensorSpec(shape=(None, 1, 91), dtype=tf.float32, name='dense_input'), name='dense_input', description=\"created by layer 'dense_input'\"), but it was called on an input with incompatible shape (None, 91).\n",
      "55576/55576 [==============================] - 91s 2ms/step - loss: 2.6149 - accuracy: 0.3269 - val_loss: 2.0216 - val_accuracy: 0.3872\n",
      "Epoch 2/10\n",
      "20533/55576 [==========>...................] - ETA: 51s - loss: 2.0524 - accuracy: 0.3761"
     ]
    }
   ],
   "source": [
    "history = model.fit(\n",
    "    train_X, \n",
    "    train_y, \n",
    "    validation_data=(val_X, val_y),\n",
    "    epochs=10\n",
    ")"
   ]
  },
  {
   "cell_type": "code",
   "execution_count": null,
   "metadata": {},
   "outputs": [],
   "source": [
    "import matplotlib.pyplot as plt\n",
    "\n",
    "plt.figure()\n",
    "plt.plot(history.history['loss'], label = 'training loss')\n",
    "plt.plot(history.history['val_loss'], label = 'validation loss')\n",
    "plt.legend()\n",
    "plt.xlabel('epochs')\n",
    "plt.ylabel('loss')\n",
    "plt.figure()\n",
    "plt.plot(history.history['accuracy'], label = 'training accuracy')\n",
    "plt.plot(history.history['val_accuracy'], label = 'validation accuracy')\n",
    "plt.legend()\n",
    "plt.xlabel('epochs')\n",
    "plt.ylabel('accuracy')"
   ]
  },
  {
   "cell_type": "markdown",
   "metadata": {},
   "source": [
    "## DYNAMIC MSPEC"
   ]
  },
  {
   "cell_type": "code",
   "execution_count": 11,
   "metadata": {},
   "outputs": [],
   "source": [
    "mspec_train_x = []\n",
    "mspec_train_y = []\n",
    "\n",
    "mspec_val_x = []\n",
    "mspec_val_y = []\n",
    "\n",
    "for train in training_data_mspec:\n",
    "    mspec_train_x.extend(train['dynamic_mspec'])\n",
    "    mspec_train_y.extend(train['targets'])\n",
    "\n",
    "for val in validation_data_mspec:\n",
    "    mspec_val_x.extend(val['dynamic_mspec'])\n",
    "    mspec_val_y.extend(val['targets'])\n",
    "    \n",
    "mspec_train_x = np.array(mspec_train_x)\n",
    "mspec_train_y = np.array(mspec_train_y)\n",
    "mspec_val_x = np.array(mspec_val_x)\n",
    "mspec_val_y = np.array(mspec_val_y)"
   ]
  },
  {
   "cell_type": "code",
   "execution_count": 12,
   "metadata": {},
   "outputs": [],
   "source": [
    "from keras.utils import to_categorical\n",
    "mspec_train_y = to_categorical(mspec_train_y, num_classes=40)\n",
    "mspec_val_y = to_categorical(mspec_val_y, num_classes=40)"
   ]
  },
  {
   "cell_type": "code",
   "execution_count": 13,
   "metadata": {},
   "outputs": [],
   "source": [
    "train_X = mspec_train_x\n",
    "train_y = mspec_train_y\n",
    "\n",
    "val_X = mspec_val_x\n",
    "val_y = mspec_val_y"
   ]
  },
  {
   "cell_type": "code",
   "execution_count": 14,
   "metadata": {},
   "outputs": [],
   "source": [
    "train_X = train_X.astype('float32')\n",
    "val_X = val_X.astype('float32')"
   ]
  },
  {
   "cell_type": "code",
   "execution_count": 15,
   "metadata": {},
   "outputs": [
    {
     "name": "stdout",
     "output_type": "stream",
     "text": [
      "Model: \"sequential\"\n",
      "_________________________________________________________________\n",
      "Layer (type)                 Output Shape              Param #   \n",
      "=================================================================\n",
      "dense (Dense)                (None, 1, 256)            2048      \n",
      "_________________________________________________________________\n",
      "dense_1 (Dense)              (None, 1, 256)            65792     \n",
      "_________________________________________________________________\n",
      "dense_2 (Dense)              (None, 1, 256)            65792     \n",
      "_________________________________________________________________\n",
      "dense_3 (Dense)              (None, 1, 40)             10280     \n",
      "=================================================================\n",
      "Total params: 143,912\n",
      "Trainable params: 143,912\n",
      "Non-trainable params: 0\n",
      "_________________________________________________________________\n"
     ]
    }
   ],
   "source": [
    "from keras.models import Sequential\n",
    "from keras.layers import Dense\n",
    "\n",
    "model = Sequential()\n",
    "model.add(Dense(256, input_shape=(1,train_X.shape[1])))\n",
    "model.add(Dense(256))\n",
    "model.add(Dense(256))\n",
    "model.add(Dense(train_y.shape[1], activation=\"softmax\"))\n",
    "\n",
    "model.summary()"
   ]
  },
  {
   "cell_type": "code",
   "execution_count": 16,
   "metadata": {},
   "outputs": [],
   "source": [
    "model.compile(optimizer='adam', loss='categorical_crossentropy', metrics = ['accuracy'])"
   ]
  },
  {
   "cell_type": "code",
   "execution_count": 17,
   "metadata": {},
   "outputs": [
    {
     "name": "stdout",
     "output_type": "stream",
     "text": [
      "(1778403, 7, 40) (1778403, 40)\n",
      "(208453, 7, 40) (208453, 40)\n"
     ]
    }
   ],
   "source": [
    "print(train_X.shape,train_y.shape)\n",
    "print(val_X.shape,val_y.shape)"
   ]
  },
  {
   "cell_type": "code",
   "execution_count": null,
   "metadata": {},
   "outputs": [],
   "source": [
    "history = model.fit(\n",
    "    train_X, \n",
    "    train_y, \n",
    "    validation_data=(val_X, val_y), \n",
    "    epochs=10\n",
    ")"
   ]
  },
  {
   "cell_type": "code",
   "execution_count": null,
   "metadata": {},
   "outputs": [],
   "source": [
    "import matplotlib.pyplot as plt\n",
    "\n",
    "plt.figure()\n",
    "plt.plot(history.history['loss'], label = 'training loss')\n",
    "plt.plot(history.history['val_loss'], label = 'validation loss')\n",
    "plt.legend()\n",
    "plt.xlabel('epochs')\n",
    "plt.ylabel('loss')\n",
    "plt.figure()\n",
    "plt.plot(history.history['accuracy'], label = 'training accuracy')\n",
    "plt.plot(history.history['val_accuracy'], label = 'validation accuracy')\n",
    "plt.legend()\n",
    "plt.xlabel('epochs')\n",
    "plt.ylabel('accuracy')"
   ]
  },
  {
   "cell_type": "markdown",
   "metadata": {},
   "source": [
    "## EVALUATION"
   ]
  },
  {
   "cell_type": "code",
   "execution_count": null,
   "metadata": {},
   "outputs": [],
   "source": [
    "testdata = np.load('testdata.npz', allow_pickle = True)\n",
    "testdata = dict(zip((\"{}\".format(k) for k in testdata), (testdata[k] for k in testdata)))\n",
    "# print(testdata)"
   ]
  },
  {
   "cell_type": "code",
   "execution_count": null,
   "metadata": {},
   "outputs": [],
   "source": [
    "testing_data_lmfcc = dynamize_features(testdata[:], 'lmfcc')\n",
    "\n",
    "print(\"Original Features \", testing_data_lmfcc[0][\"lmfcc\"].shape)\n",
    "print(\"Dynamic Features \", testing_data_lmfcc[0]['dynamic_lmfcc'].shape)\n",
    "\n",
    "print(\"Total number of data points is\", len(training_data_lmfcc))"
   ]
  },
  {
   "cell_type": "code",
   "execution_count": null,
   "metadata": {},
   "outputs": [],
   "source": [
    "lmfcc_test_x = []\n",
    "lmfcc_test_y = []\n",
    "\n",
    "for train in testing_data_lmfcc:\n",
    "    lmfcc_test_x.extend(testdata['lmfcc'])\n",
    "    lmfcc_test_y.extend(testdata['targets'])\n",
    "    \n",
    "lmfcc_train_x = np.array(lmfcc_train_x)\n",
    "lmfcc_train_y = np.array(lmfcc_train_y)"
   ]
  },
  {
   "cell_type": "code",
   "execution_count": null,
   "metadata": {},
   "outputs": [],
   "source": []
  },
  {
   "cell_type": "code",
   "execution_count": null,
   "metadata": {},
   "outputs": [],
   "source": []
  },
  {
   "cell_type": "code",
   "execution_count": null,
   "metadata": {},
   "outputs": [],
   "source": [
    "test_X ="
   ]
  },
  {
   "cell_type": "code",
   "execution_count": null,
   "metadata": {},
   "outputs": [],
   "source": [
    "preds = model.predict(test_X)"
   ]
  }
 ],
 "metadata": {
  "kernelspec": {
   "display_name": "py38",
   "language": "python",
   "name": "py38"
  },
  "language_info": {
   "codemirror_mode": {
    "name": "ipython",
    "version": 3
   },
   "file_extension": ".py",
   "mimetype": "text/x-python",
   "name": "python",
   "nbconvert_exporter": "python",
   "pygments_lexer": "ipython3",
   "version": "3.8.5"
  }
 },
 "nbformat": 4,
 "nbformat_minor": 4
}
